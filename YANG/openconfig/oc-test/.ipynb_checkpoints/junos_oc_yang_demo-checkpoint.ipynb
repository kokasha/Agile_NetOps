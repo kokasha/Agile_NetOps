{
 "cells": [
  {
   "cell_type": "markdown",
   "metadata": {},
   "source": [
    "# This lab is for use of OpenConfig YANG Models with JunOS"
   ]
  },
  {
   "cell_type": "code",
   "execution_count": 1,
   "metadata": {},
   "outputs": [],
   "source": [
    "# import ncclient to work with NETCONF to push the configuration\n",
    "import lxml.etree as ET\n",
    "from argparse import ArgumentParser\n",
    "from ncclient import manager\n",
    "from ncclient.operations import RPCError"
   ]
  },
  {
   "cell_type": "code",
   "execution_count": 2,
   "metadata": {},
   "outputs": [],
   "source": [
    "# XML RPC to delete Interface using OpenConfig YANG Models\n",
    "payload = \"\"\"\n",
    "<config xmlns:xc=\"urn:ietf:params:xml:ns:netconf:base:1.0\" xmlns=\"urn:ietf:params:xml:ns:netconf:base:1.0\">\n",
    "  <interfaces xmlns=\"http://openconfig.net/yang/interfaces\">\n",
    "    <interface xc:operation=\"delete\">\n",
    "      <name>ge-0/0/2</name>\n",
    "    </interface>\n",
    "  </interfaces>\n",
    "</config>\n",
    "\"\"\""
   ]
  },
  {
   "cell_type": "code",
   "execution_count": 5,
   "metadata": {},
   "outputs": [
    {
     "name": "stdout",
     "output_type": "stream",
     "text": [
      "<rpc-error xmlns=\"urn:ietf:params:xml:ns:netconf:base:1.0\" xmlns:junos=\"http://xml.juniper.net/junos/17.1R1/junos\" xmlns:nc=\"urn:ietf:params:xml:ns:netconf:base:1.0\">\n",
      "<error-severity>warning</error-severity>\n",
      "<error-path>[edit openconfig-interfaces:interfaces]</error-path>\n",
      "<error-message>statement not found: interface ge-0/0/2</error-message>\n",
      "</rpc-error>\n",
      "\n",
      "\n"
     ]
    }
   ],
   "source": [
    "   with manager.connect(host='192.10.0.103',\n",
    "                         port=830,\n",
    "                         username='lab',\n",
    "                         password='lab123',\n",
    "                         timeout=90,\n",
    "                         hostkey_verify=False,\n",
    "                         device_params={'name': 'default'}) as m:\n",
    "\n",
    "        # execute netconf operation\n",
    "        try:\n",
    "            response = m.edit_config(target='candidate', config=payload).xml\n",
    "            m.commit()\n",
    "            data = ET.fromstring(response)\n",
    "        except RPCError as e:\n",
    "            data = e._raw\n",
    "\n",
    "        # beautify output\n",
    "        print(ET.tostring(data, pretty_print=True))"
   ]
  },
  {
   "cell_type": "code",
   "execution_count": null,
   "metadata": {},
   "outputs": [],
   "source": []
  }
 ],
 "metadata": {
  "kernelspec": {
   "display_name": "Python 2",
   "language": "python",
   "name": "python2"
  },
  "language_info": {
   "codemirror_mode": {
    "name": "ipython",
    "version": 2
   },
   "file_extension": ".py",
   "mimetype": "text/x-python",
   "name": "python",
   "nbconvert_exporter": "python",
   "pygments_lexer": "ipython2",
   "version": "2.7.12"
  }
 },
 "nbformat": 4,
 "nbformat_minor": 2
}
