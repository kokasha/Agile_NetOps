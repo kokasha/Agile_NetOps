{
 "cells": [
  {
   "cell_type": "markdown",
   "metadata": {},
   "source": [
    "# This lab is for use of OpenConfig YANG Models with IOS-XE"
   ]
  },
  {
   "cell_type": "code",
   "execution_count": 10,
   "metadata": {},
   "outputs": [],
   "source": [
    "# import ncclient to work with NETCONF to push the configuration\n",
    "import lxml.etree as ET\n",
    "from argparse import ArgumentParser\n",
    "from ncclient import manager\n",
    "from ncclient.operations import RPCError"
   ]
  },
  {
   "cell_type": "code",
   "execution_count": 11,
   "metadata": {},
   "outputs": [],
   "source": [
    "payload = \"\"\"\n",
    "<config xmlns:xc=\"urn:ietf:params:xml:ns:netconf:base:1.0\" xmlns=\"urn:ietf:params:xml:ns:netconf:base:1.0\">\n",
    "  <interfaces xmlns=\"http://openconfig.net/yang/interfaces\" xmlns:oc-ip=\"http://openconfig.net/yang/interfaces/ip\">\n",
    "    <interface>\n",
    "      <name>GigabitEthernet5</name>\n",
    "      <config>\n",
    "        <name>GigabitEthernet5</name>\n",
    "        <type xmlns:ianaift=\"urn:ietf:params:xml:ns:yang:iana-if-type\">ianaift:ethernetCsmacd</type>\n",
    "        <enabled>true</enabled>\n",
    "      </config>\n",
    "      <subinterfaces>\n",
    "        <subinterface>\n",
    "          <index>0</index>\n",
    "          <config>\n",
    "            <index>0</index>\n",
    "          </config>\n",
    "          <oc-ip:ipv4>\n",
    "            <oc-ip:addresses>\n",
    "              <oc-ip:address>\n",
    "                <oc-ip:ip>172.10.36.1</oc-ip:ip>\n",
    "                <oc-ip:config>\n",
    "                  <oc-ip:ip>172.10.36.1</oc-ip:ip>\n",
    "                  <oc-ip:prefix-length>30</oc-ip:prefix-length>\n",
    "                </oc-ip:config>\n",
    "              </oc-ip:address>\n",
    "            </oc-ip:addresses>\n",
    "          </oc-ip:ipv4>\n",
    "        </subinterface>\n",
    "      </subinterfaces>\n",
    "    </interface>\n",
    "  </interfaces>\n",
    "</config>\n",
    "\"\"\""
   ]
  },
  {
   "cell_type": "code",
   "execution_count": 12,
   "metadata": {},
   "outputs": [
    {
     "ename": "MissingCapabilityError",
     "evalue": "Server does not support [:candidate]",
     "output_type": "error",
     "traceback": [
      "\u001b[0;31m---------------------------------------------------------------------------\u001b[0m",
      "\u001b[0;31mMissingCapabilityError\u001b[0m                    Traceback (most recent call last)",
      "\u001b[0;32m<ipython-input-12-d1b8ffe5d7f5>\u001b[0m in \u001b[0;36m<module>\u001b[0;34m()\u001b[0m\n\u001b[1;32m     10\u001b[0m        \u001b[0;32mtry\u001b[0m\u001b[0;34m:\u001b[0m\u001b[0;34m\u001b[0m\u001b[0m\n\u001b[1;32m     11\u001b[0m            \u001b[0mresponse\u001b[0m \u001b[0;34m=\u001b[0m \u001b[0mm\u001b[0m\u001b[0;34m.\u001b[0m\u001b[0medit_config\u001b[0m\u001b[0;34m(\u001b[0m\u001b[0mtarget\u001b[0m\u001b[0;34m=\u001b[0m\u001b[0;34m'running'\u001b[0m\u001b[0;34m,\u001b[0m \u001b[0mconfig\u001b[0m\u001b[0;34m=\u001b[0m\u001b[0mpayload\u001b[0m\u001b[0;34m)\u001b[0m\u001b[0;34m.\u001b[0m\u001b[0mxml\u001b[0m\u001b[0;34m\u001b[0m\u001b[0m\n\u001b[0;32m---> 12\u001b[0;31m            \u001b[0mm\u001b[0m\u001b[0;34m.\u001b[0m\u001b[0mcommit\u001b[0m\u001b[0;34m(\u001b[0m\u001b[0;34m)\u001b[0m\u001b[0;34m\u001b[0m\u001b[0m\n\u001b[0m\u001b[1;32m     13\u001b[0m            \u001b[0mdata\u001b[0m \u001b[0;34m=\u001b[0m \u001b[0mET\u001b[0m\u001b[0;34m.\u001b[0m\u001b[0mfromstring\u001b[0m\u001b[0;34m(\u001b[0m\u001b[0mresponse\u001b[0m\u001b[0;34m)\u001b[0m\u001b[0;34m\u001b[0m\u001b[0m\n\u001b[1;32m     14\u001b[0m        \u001b[0;32mexcept\u001b[0m \u001b[0mRPCError\u001b[0m \u001b[0;32mas\u001b[0m \u001b[0me\u001b[0m\u001b[0;34m:\u001b[0m\u001b[0;34m\u001b[0m\u001b[0m\n",
      "\u001b[0;32m/usr/local/lib/python2.7/dist-packages/ncclient/manager.pyc\u001b[0m in \u001b[0;36mwrapper\u001b[0;34m(self, *args, **kwds)\u001b[0m\n\u001b[1;32m    160\u001b[0m         \u001b[0;32mdef\u001b[0m \u001b[0mmake_wrapper\u001b[0m\u001b[0;34m(\u001b[0m\u001b[0mop_cls\u001b[0m\u001b[0;34m)\u001b[0m\u001b[0;34m:\u001b[0m\u001b[0;34m\u001b[0m\u001b[0m\n\u001b[1;32m    161\u001b[0m             \u001b[0;32mdef\u001b[0m \u001b[0mwrapper\u001b[0m\u001b[0;34m(\u001b[0m\u001b[0mself\u001b[0m\u001b[0;34m,\u001b[0m \u001b[0;34m*\u001b[0m\u001b[0margs\u001b[0m\u001b[0;34m,\u001b[0m \u001b[0;34m**\u001b[0m\u001b[0mkwds\u001b[0m\u001b[0;34m)\u001b[0m\u001b[0;34m:\u001b[0m\u001b[0;34m\u001b[0m\u001b[0m\n\u001b[0;32m--> 162\u001b[0;31m                 \u001b[0;32mreturn\u001b[0m \u001b[0mself\u001b[0m\u001b[0;34m.\u001b[0m\u001b[0mexecute\u001b[0m\u001b[0;34m(\u001b[0m\u001b[0mop_cls\u001b[0m\u001b[0;34m,\u001b[0m \u001b[0;34m*\u001b[0m\u001b[0margs\u001b[0m\u001b[0;34m,\u001b[0m \u001b[0;34m**\u001b[0m\u001b[0mkwds\u001b[0m\u001b[0;34m)\u001b[0m\u001b[0;34m\u001b[0m\u001b[0m\n\u001b[0m\u001b[1;32m    163\u001b[0m             \u001b[0mwrapper\u001b[0m\u001b[0;34m.\u001b[0m\u001b[0m__doc__\u001b[0m \u001b[0;34m=\u001b[0m \u001b[0mop_cls\u001b[0m\u001b[0;34m.\u001b[0m\u001b[0mrequest\u001b[0m\u001b[0;34m.\u001b[0m\u001b[0m__doc__\u001b[0m\u001b[0;34m\u001b[0m\u001b[0m\n\u001b[1;32m    164\u001b[0m             \u001b[0;32mreturn\u001b[0m \u001b[0mwrapper\u001b[0m\u001b[0;34m\u001b[0m\u001b[0m\n",
      "\u001b[0;32m/usr/local/lib/python2.7/dist-packages/ncclient/manager.pyc\u001b[0m in \u001b[0;36mexecute\u001b[0;34m(self, cls, *args, **kwds)\u001b[0m\n\u001b[1;32m    230\u001b[0m                    \u001b[0masync\u001b[0m\u001b[0;34m=\u001b[0m\u001b[0mself\u001b[0m\u001b[0;34m.\u001b[0m\u001b[0m_async_mode\u001b[0m\u001b[0;34m,\u001b[0m\u001b[0;34m\u001b[0m\u001b[0m\n\u001b[1;32m    231\u001b[0m                    \u001b[0mtimeout\u001b[0m\u001b[0;34m=\u001b[0m\u001b[0mself\u001b[0m\u001b[0;34m.\u001b[0m\u001b[0m_timeout\u001b[0m\u001b[0;34m,\u001b[0m\u001b[0;34m\u001b[0m\u001b[0m\n\u001b[0;32m--> 232\u001b[0;31m                    raise_mode=self._raise_mode).request(*args, **kwds)\n\u001b[0m\u001b[1;32m    233\u001b[0m \u001b[0;34m\u001b[0m\u001b[0m\n\u001b[1;32m    234\u001b[0m     \u001b[0;32mdef\u001b[0m \u001b[0mlocked\u001b[0m\u001b[0;34m(\u001b[0m\u001b[0mself\u001b[0m\u001b[0;34m,\u001b[0m \u001b[0mtarget\u001b[0m\u001b[0;34m)\u001b[0m\u001b[0;34m:\u001b[0m\u001b[0;34m\u001b[0m\u001b[0m\n",
      "\u001b[0;32m/usr/local/lib/python2.7/dist-packages/ncclient/operations/rpc.pyc\u001b[0m in \u001b[0;36m__init__\u001b[0;34m(self, session, device_handler, async, timeout, raise_mode)\u001b[0m\n\u001b[1;32m    280\u001b[0m         \u001b[0;32mtry\u001b[0m\u001b[0;34m:\u001b[0m\u001b[0;34m\u001b[0m\u001b[0m\n\u001b[1;32m    281\u001b[0m             \u001b[0;32mfor\u001b[0m \u001b[0mcap\u001b[0m \u001b[0;32min\u001b[0m \u001b[0mself\u001b[0m\u001b[0;34m.\u001b[0m\u001b[0mDEPENDS\u001b[0m\u001b[0;34m:\u001b[0m\u001b[0;34m\u001b[0m\u001b[0m\n\u001b[0;32m--> 282\u001b[0;31m                 \u001b[0mself\u001b[0m\u001b[0;34m.\u001b[0m\u001b[0m_assert\u001b[0m\u001b[0;34m(\u001b[0m\u001b[0mcap\u001b[0m\u001b[0;34m)\u001b[0m\u001b[0;34m\u001b[0m\u001b[0m\n\u001b[0m\u001b[1;32m    283\u001b[0m         \u001b[0;32mexcept\u001b[0m \u001b[0mAttributeError\u001b[0m\u001b[0;34m:\u001b[0m\u001b[0;34m\u001b[0m\u001b[0m\n\u001b[1;32m    284\u001b[0m             \u001b[0;32mpass\u001b[0m\u001b[0;34m\u001b[0m\u001b[0m\n",
      "\u001b[0;32m/usr/local/lib/python2.7/dist-packages/ncclient/operations/rpc.pyc\u001b[0m in \u001b[0;36m_assert\u001b[0;34m(self, capability)\u001b[0m\n\u001b[1;32m    354\u001b[0m         raised if the capability is not available.\"\"\"\n\u001b[1;32m    355\u001b[0m         \u001b[0;32mif\u001b[0m \u001b[0mcapability\u001b[0m \u001b[0;32mnot\u001b[0m \u001b[0;32min\u001b[0m \u001b[0mself\u001b[0m\u001b[0;34m.\u001b[0m\u001b[0m_session\u001b[0m\u001b[0;34m.\u001b[0m\u001b[0mserver_capabilities\u001b[0m\u001b[0;34m:\u001b[0m\u001b[0;34m\u001b[0m\u001b[0m\n\u001b[0;32m--> 356\u001b[0;31m             \u001b[0;32mraise\u001b[0m \u001b[0mMissingCapabilityError\u001b[0m\u001b[0;34m(\u001b[0m\u001b[0;34m'Server does not support [%s]'\u001b[0m \u001b[0;34m%\u001b[0m \u001b[0mcapability\u001b[0m\u001b[0;34m)\u001b[0m\u001b[0;34m\u001b[0m\u001b[0m\n\u001b[0m\u001b[1;32m    357\u001b[0m \u001b[0;34m\u001b[0m\u001b[0m\n\u001b[1;32m    358\u001b[0m     \u001b[0;32mdef\u001b[0m \u001b[0mdeliver_reply\u001b[0m\u001b[0;34m(\u001b[0m\u001b[0mself\u001b[0m\u001b[0;34m,\u001b[0m \u001b[0mraw\u001b[0m\u001b[0;34m)\u001b[0m\u001b[0;34m:\u001b[0m\u001b[0;34m\u001b[0m\u001b[0m\n",
      "\u001b[0;31mMissingCapabilityError\u001b[0m: Server does not support [:candidate]"
     ]
    }
   ],
   "source": [
    " with manager.connect(host='192.10.0.106',\n",
    "                         port=830,\n",
    "                         username='cisco',\n",
    "                         password='cisco',\n",
    "                         timeout=90,\n",
    "                         hostkey_verify=False,\n",
    "                         device_params={'name': 'csr'}) as m:\n",
    "\n",
    "        # execute netconf operation\n",
    "        try:\n",
    "            response = m.edit_config(target='running', config=payload).xml\n",
    "            m.commit()\n",
    "            data = ET.fromstring(response)\n",
    "        except RPCError as e:\n",
    "            data = e._raw\n",
    "\n",
    "        # beautify output\n",
    "        print(ET.tostring(data, pretty_print=True))"
   ]
  },
  {
   "cell_type": "code",
   "execution_count": 15,
   "metadata": {},
   "outputs": [],
   "source": [
    "get_interface = \"\"\"\n",
    "<filter xmlns=\"urn:ietf:params:xml:ns:netconf:base:1.0\">\n",
    "  <interfaces xmlns=\"http://openconfig.net/yang/interfaces\">\n",
    "    <interface>\n",
    "      <name>GigabitEthernet5</name>\n",
    "      <state/>\n",
    "    </interface>\n",
    "  </interfaces>\n",
    "</filter>\n",
    "\"\"\""
   ]
  },
  {
   "cell_type": "code",
   "execution_count": 16,
   "metadata": {},
   "outputs": [
    {
     "name": "stdout",
     "output_type": "stream",
     "text": [
      "<rpc-reply xmlns=\"urn:ietf:params:xml:ns:netconf:base:1.0\" xmlns:nc=\"urn:ietf:params:xml:ns:netconf:base:1.0\" message-id=\"urn:uuid:e7b79fa5-2513-43eb-a955-a8c519fa0882\">\n",
      "  <data>\n",
      "    <interfaces xmlns=\"http://openconfig.net/yang/interfaces\">\n",
      "      <interface>\n",
      "        <name xmlns:nc=\"urn:ietf:params:xml:ns:netconf:base:1.0\">GigabitEthernet5</name>\n",
      "        <state>\n",
      "          <type xmlns:ianaift=\"urn:ietf:params:xml:ns:yang:iana-if-type\">ianaift:ethernetCsmacd</type>\n",
      "          <name>GigabitEthernet5</name>\n",
      "          <enabled>true</enabled>\n",
      "          <ifindex>0</ifindex>\n",
      "          <admin-status>UP</admin-status>\n",
      "          <oper-status>UP</oper-status>\n",
      "          <last-change>2018-04-17T10:06:01.000297+00:00</last-change>\n",
      "          <counters>\n",
      "            <in-octets>306294</in-octets>\n",
      "            <in-unicast-pkts>2857</in-unicast-pkts>\n",
      "            <in-broadcast-pkts>0</in-broadcast-pkts>\n",
      "            <in-multicast-pkts>0</in-multicast-pkts>\n",
      "            <in-discards>0</in-discards>\n",
      "            <in-errors>0</in-errors>\n",
      "            <in-unknown-protos>0</in-unknown-protos>\n",
      "            <out-octets>728614</out-octets>\n",
      "            <out-unicast-pkts>5264</out-unicast-pkts>\n",
      "            <out-broadcast-pkts>0</out-broadcast-pkts>\n",
      "            <out-multicast-pkts>0</out-multicast-pkts>\n",
      "            <out-discards>0</out-discards>\n",
      "            <out-errors>0</out-errors>\n",
      "            <last-clear>2018-04-15T20:49:48.000464+00:00</last-clear>\n",
      "          </counters>\n",
      "        </state>\n",
      "      </interface>\n",
      "    </interfaces>\n",
      "  </data>\n",
      "</rpc-reply>\n",
      "\n"
     ]
    }
   ],
   "source": [
    " with manager.connect(host='192.10.0.106',\n",
    "                         port=830,\n",
    "                         username='cisco',\n",
    "                         password='cisco',\n",
    "                         timeout=90,\n",
    "                         hostkey_verify=False,\n",
    "                         device_params={'name': 'csr'}) as m:\n",
    "\n",
    "        # execute netconf operation\n",
    "        try:\n",
    "            response = m.get(get_interface).xml\n",
    "            data = ET.fromstring(response)\n",
    "        except RPCError as e:\n",
    "            data = e._raw\n",
    "\n",
    "        # beautify output\n",
    "        print(ET.tostring(data, pretty_print=True))"
   ]
  },
  {
   "cell_type": "code",
   "execution_count": null,
   "metadata": {},
   "outputs": [],
   "source": []
  }
 ],
 "metadata": {
  "kernelspec": {
   "display_name": "Python 2",
   "language": "python",
   "name": "python2"
  },
  "language_info": {
   "codemirror_mode": {
    "name": "ipython",
    "version": 2
   },
   "file_extension": ".py",
   "mimetype": "text/x-python",
   "name": "python",
   "nbconvert_exporter": "python",
   "pygments_lexer": "ipython2",
   "version": "2.7.12"
  }
 },
 "nbformat": 4,
 "nbformat_minor": 2
}
