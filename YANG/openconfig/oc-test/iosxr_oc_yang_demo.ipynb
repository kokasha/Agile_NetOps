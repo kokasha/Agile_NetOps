{
 "cells": [
  {
   "cell_type": "markdown",
   "metadata": {},
   "source": [
    "# This lab is for use of OpenConfig YANG Models with IOS-XR"
   ]
  },
  {
   "cell_type": "code",
   "execution_count": 77,
   "metadata": {},
   "outputs": [],
   "source": [
    "# import ncclient to work with NETCONF to push the configuration\n",
    "import lxml.etree as ET\n",
    "from argparse import ArgumentParser\n",
    "from ncclient import manager\n",
    "from ncclient.operations import RPCError"
   ]
  },
  {
   "cell_type": "code",
   "execution_count": 62,
   "metadata": {},
   "outputs": [],
   "source": [
    "# XML RPC to delete Interface using OpenConfig YANG Models\n",
    "delete_interface = \"\"\"\n",
    "<config xmlns:xc=\"urn:ietf:params:xml:ns:netconf:base:1.0\" xmlns=\"urn:ietf:params:xml:ns:netconf:base:1.0\">\n",
    "  <interfaces xmlns=\"http://openconfig.net/yang/interfaces\">\n",
    "    <interface xc:operation=\"delete\">\n",
    "      <name>GigabitEthernet0/0/0/1</name>\n",
    "    </interface>\n",
    "  </interfaces>\n",
    "</config>\n",
    "\"\"\""
   ]
  },
  {
   "cell_type": "code",
   "execution_count": 81,
   "metadata": {},
   "outputs": [],
   "source": [
    "payload = \"\"\"\n",
    "<config xmlns:xc=\"urn:ietf:params:xml:ns:netconf:base:1.0\" xmlns=\"urn:ietf:params:xml:ns:netconf:base:1.0\">\n",
    "  <interfaces xmlns=\"http://openconfig.net/yang/interfaces\" xmlns:oc-ip=\"http://openconfig.net/yang/interfaces/ip\">\n",
    "    <interface>\n",
    "      <name>GigabitEthernet0/0/0/2</name>\n",
    "      <config>\n",
    "        <name>GigabitEthernet0/0/0/2</name>\n",
    "        <type xmlns:ianaift=\"urn:ietf:params:xml:ns:yang:iana-if-type\">ianaift:ethernetCsmacd</type>\n",
    "        <enabled>true</enabled>\n",
    "      </config>\n",
    "      <subinterfaces>\n",
    "        <subinterface>\n",
    "          <index>0</index>\n",
    "          <config>\n",
    "            <index>0</index>\n",
    "          </config>\n",
    "          <oc-ip:ipv4>\n",
    "              <oc-ip:address>\n",
    "                <oc-ip:ip>172.10.35.2</oc-ip:ip>\n",
    "                <oc-ip:config>\n",
    "                  <oc-ip:ip>172.10.35.2</oc-ip:ip>\n",
    "                  <oc-ip:prefix-length>30</oc-ip:prefix-length>\n",
    "                </oc-ip:config>\n",
    "              </oc-ip:address>\n",
    "          </oc-ip:ipv4>\n",
    "        </subinterface>\n",
    "      </subinterfaces>\n",
    "    </interface>\n",
    "  </interfaces>\n",
    "</config>\n",
    "\"\"\""
   ]
  },
  {
   "cell_type": "code",
   "execution_count": 82,
   "metadata": {},
   "outputs": [],
   "source": [
    "import lxml.etree as ET\n",
    "from argparse import ArgumentParser\n",
    "from ncclient import manager\n",
    "from ncclient.operations import RPCError"
   ]
  },
  {
   "cell_type": "code",
   "execution_count": 83,
   "metadata": {},
   "outputs": [
    {
     "name": "stdout",
     "output_type": "stream",
     "text": [
      "<rpc-reply xmlns:nc=\"urn:ietf:params:xml:ns:netconf:base:1.0\" xmlns=\"urn:ietf:params:xml:ns:netconf:base:1.0\" message-id=\"urn:uuid:a2597696-734b-4df2-b199-d48d57abd2d4\">\n",
      " <ok/>\n",
      "</rpc-reply>\n",
      "\n"
     ]
    }
   ],
   "source": [
    "    with manager.connect(host='192.10.0.105',\n",
    "                         port=830,\n",
    "                         username='cisco',\n",
    "                         password='cisco',\n",
    "                         timeout=90,\n",
    "                         hostkey_verify=False,\n",
    "                         device_params={'name': 'iosxr'}) as m:\n",
    "\n",
    "        # execute netconf operation\n",
    "        try:\n",
    "            response = m.edit_config(target='candidate', config=payload).xml\n",
    "            m.commit()\n",
    "            data = ET.fromstring(response)\n",
    "        except RPCError as e:\n",
    "            data = e._raw\n",
    "\n",
    "        # beautify output\n",
    "        print(ET.tostring(data, pretty_print=True))"
   ]
  },
  {
   "cell_type": "code",
   "execution_count": 86,
   "metadata": {},
   "outputs": [],
   "source": [
    "get_interface = \"\"\"\n",
    "<filter xmlns=\"urn:ietf:params:xml:ns:netconf:base:1.0\">\n",
    "  <interfaces xmlns=\"http://openconfig.net/yang/interfaces\">\n",
    "    <interface>\n",
    "      <name>GigabitEthernet0/0/0/2</name>\n",
    "      <state/>\n",
    "    </interface>\n",
    "  </interfaces>\n",
    "</filter>\n",
    "\"\"\""
   ]
  },
  {
   "cell_type": "code",
   "execution_count": 87,
   "metadata": {},
   "outputs": [
    {
     "name": "stdout",
     "output_type": "stream",
     "text": [
      "<rpc-reply xmlns:nc=\"urn:ietf:params:xml:ns:netconf:base:1.0\" xmlns=\"urn:ietf:params:xml:ns:netconf:base:1.0\" message-id=\"urn:uuid:b4e45f90-a34a-4d02-ad7f-1b2286dd4914\">\n",
      " <data>\n",
      "  <interfaces xmlns=\"http://openconfig.net/yang/interfaces\">\n",
      "   <interface>\n",
      "    <name>GigabitEthernet0/0/0/2</name>\n",
      "    <state>\n",
      "     <name>GigabitEthernet0/0/0/2</name>\n",
      "     <enabled>true</enabled>\n",
      "     <type xmlns:idx=\"urn:ietf:params:xml:ns:yang:iana-if-type\">idx:ethernetCsmacd</type>\n",
      "     <admin-status>UP</admin-status>\n",
      "     <oper-status>UP</oper-status>\n",
      "     <mtu>1514</mtu>\n",
      "     <last-change>39163</last-change>\n",
      "     <description/>\n",
      "     <counters>\n",
      "      <in-multicast-pkts>1609</in-multicast-pkts>\n",
      "      <in-broadcast-pkts>21</in-broadcast-pkts>\n",
      "      <out-multicast-pkts>7261</out-multicast-pkts>\n",
      "      <out-broadcast-pkts>6</out-broadcast-pkts>\n",
      "      <out-discards>0</out-discards>\n",
      "      <in-discards>0</in-discards>\n",
      "      <in-unknown-protos>0</in-unknown-protos>\n",
      "      <in-errors>0</in-errors>\n",
      "      <out-errors>0</out-errors>\n",
      "      <last-clear>Never</last-clear>\n",
      "     </counters>\n",
      "     <ifindex>6</ifindex>\n",
      "    </state>\n",
      "   </interface>\n",
      "  </interfaces>\n",
      " </data>\n",
      "</rpc-reply>\n",
      "\n"
     ]
    }
   ],
   "source": [
    "  with manager.connect(host='192.10.0.105',\n",
    "                         port=830,\n",
    "                         username='cisco',\n",
    "                         password='cisco',\n",
    "                         timeout=90,\n",
    "                         hostkey_verify=False,\n",
    "                         device_params={'name': 'iosxr'}) as m:\n",
    "\n",
    "        # execute netconf operation\n",
    "        try:\n",
    "            response = m.get(get_interface).xml\n",
    "            data = ET.fromstring(response)\n",
    "        except RPCError as e:\n",
    "            data = e._raw\n",
    "\n",
    "        # beautify output\n",
    "        print(ET.tostring(data, pretty_print=True))"
   ]
  },
  {
   "cell_type": "code",
   "execution_count": null,
   "metadata": {},
   "outputs": [],
   "source": []
  },
  {
   "cell_type": "code",
   "execution_count": 73,
   "metadata": {},
   "outputs": [],
   "source": [
    "# BGP Neighbor OC Data Model\n",
    "bgp_payload = \"\"\"\n",
    "<config xmlns:xc=\"urn:ietf:params:xml:ns:netconf:base:1.0\" xmlns=\"urn:ietf:params:xml:ns:netconf:base:1.0\">\n",
    "  <bgp xmlns=\"http://openconfig.net/yang/bgp\">\n",
    "    <global>\n",
    "      <config>\n",
    "        <as>100</as>\n",
    "        <router-id>10.100.5.5</router-id>\n",
    "      </config>\n",
    "    </global>\n",
    "    <neighbors>\n",
    "      <neighbor>\n",
    "        <neighbor-address>10.100.3.3</neighbor-address>\n",
    "        <config>\n",
    "          <peer-group>OC_PEERS</peer-group>\n",
    "          <neighbor-address>10.100.3.3</neighbor-address>\n",
    "          <peer-as>100</peer-as>\n",
    "        </config>\n",
    "      </neighbor>\n",
    "    </neighbors>\n",
    "  </bgp>\n",
    "</config>\n",
    "\"\"\""
   ]
  },
  {
   "cell_type": "code",
   "execution_count": 74,
   "metadata": {},
   "outputs": [
    {
     "name": "stdout",
     "output_type": "stream",
     "text": [
      "<rpc-reply xmlns:nc=\"urn:ietf:params:xml:ns:netconf:base:1.0\" xmlns=\"urn:ietf:params:xml:ns:netconf:base:1.0\" message-id=\"urn:uuid:97e2f83b-5e66-4f6e-b75a-8e64acfe706a\">\n",
      " <ok/>\n",
      "</rpc-reply>\n",
      "\n"
     ]
    }
   ],
   "source": [
    "    with manager.connect(host='192.10.0.105',\n",
    "                         port=830,\n",
    "                         username='cisco',\n",
    "                         password='cisco',\n",
    "                         timeout=90,\n",
    "                         hostkey_verify=False,\n",
    "                         device_params={'name': 'iosxr'}) as m:\n",
    "\n",
    "        # execute netconf operation\n",
    "        try:\n",
    "            response = m.edit_config(target='candidate', config=bgp_payload).xml\n",
    "            m.commit()\n",
    "            data = ET.fromstring(response)\n",
    "        except RPCError as e:\n",
    "            data = e._raw\n",
    "\n",
    "        # beautify output\n",
    "        print(ET.tostring(data, pretty_print=True))"
   ]
  },
  {
   "cell_type": "code",
   "execution_count": null,
   "metadata": {},
   "outputs": [],
   "source": []
  }
 ],
 "metadata": {
  "kernelspec": {
   "display_name": "Python 2",
   "language": "python",
   "name": "python2"
  },
  "language_info": {
   "codemirror_mode": {
    "name": "ipython",
    "version": 2
   },
   "file_extension": ".py",
   "mimetype": "text/x-python",
   "name": "python",
   "nbconvert_exporter": "python",
   "pygments_lexer": "ipython2",
   "version": "2.7.12"
  }
 },
 "nbformat": 4,
 "nbformat_minor": 2
}
