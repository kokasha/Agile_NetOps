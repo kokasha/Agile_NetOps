{
 "cells": [
  {
   "cell_type": "markdown",
   "metadata": {},
   "source": [
    "# This lab is for use of OpenConfig YANG Models with JunOS"
   ]
  },
  {
   "cell_type": "code",
   "execution_count": 1,
   "metadata": {},
   "outputs": [],
   "source": [
    "# import ncclient to work with NETCONF to push the configuration\n",
    "import lxml.etree as ET\n",
    "from argparse import ArgumentParser\n",
    "from ncclient import manager\n",
    "from ncclient.operations import RPCError"
   ]
  },
  {
   "cell_type": "code",
   "execution_count": 23,
   "metadata": {},
   "outputs": [
    {
     "data": {
      "text/plain": [
       "'\\npayload = \"\"\"\\n<config xmlns:xc=\"urn:ietf:params:xml:ns:netconf:base:1.0\" xmlns=\"urn:ietf:params:xml:ns:netconf:base:1.0\">\\n  <interfaces xmlns=\"http://openconfig.net/yang/interfaces\">\\n    <interface xc:operation=\"delete\">\\n      <name>ge-0/0/2</name>\\n    </interface>\\n  </interfaces>\\n</config>\\n\"\"\"\\n'"
      ]
     },
     "execution_count": 23,
     "metadata": {},
     "output_type": "execute_result"
    }
   ],
   "source": [
    "# XML RPC to delete Interface using OpenConfig YANG Models\n",
    "'''\n",
    "payload = \"\"\"\n",
    "<config xmlns:xc=\"urn:ietf:params:xml:ns:netconf:base:1.0\" xmlns=\"urn:ietf:params:xml:ns:netconf:base:1.0\">\n",
    "  <interfaces xmlns=\"http://openconfig.net/yang/interfaces\">\n",
    "    <interface xc:operation=\"delete\">\n",
    "      <name>ge-0/0/2</name>\n",
    "    </interface>\n",
    "  </interfaces>\n",
    "</config>\n",
    "\"\"\"\n",
    "'''"
   ]
  },
  {
   "cell_type": "code",
   "execution_count": 25,
   "metadata": {},
   "outputs": [],
   "source": [
    "# We can't use the same model similar to IOS-XE with oc-ip reference\n",
    "payload = \"\"\"\n",
    "<config xmlns:xc=\"urn:ietf:params:xml:ns:netconf:base:1.0\" xmlns=\"urn:ietf:params:xml:ns:netconf:base:1.0\">\n",
    "    <interfaces xmlns=\"http://openconfig.net/yang/interfaces\">\n",
    "      <interface>\n",
    "        <name>ge-0/0/1</name>\n",
    "        <config>\n",
    "          <type>ianaift:ethernetCsmacd</type>\n",
    "          <name>ge-0/0/1</name>\n",
    "          <description>Link to XR5 -- OpenConfig Model</description>\n",
    "          <enabled>true</enabled>\n",
    "        </config>\n",
    "        <subinterfaces>\n",
    "          <subinterface>\n",
    "            <index>0</index>\n",
    "            <config>\n",
    "              <index>0</index>\n",
    "              <enabled>true</enabled>\n",
    "            </config>\n",
    "            <ipv4 xmlns=\"http://openconfig.net/yang/interfaces/ip\">\n",
    "              <addresses>\n",
    "                <address>\n",
    "                  <ip>172.10.35.1</ip>\n",
    "                  <config>\n",
    "                    <ip>172.10.35.1</ip>\n",
    "                    <prefix-length>30</prefix-length>\n",
    "                  </config>\n",
    "                </address>\n",
    "              </addresses>\n",
    "            </ipv4>\n",
    "          </subinterface>\n",
    "        </subinterfaces>\n",
    "      </interface>\n",
    "    </interfaces>\n",
    "</config>\n",
    "\"\"\""
   ]
  },
  {
   "cell_type": "code",
   "execution_count": 26,
   "metadata": {},
   "outputs": [
    {
     "name": "stdout",
     "output_type": "stream",
     "text": [
      "<rpc-reply xmlns=\"urn:ietf:params:xml:ns:netconf:base:1.0\" xmlns:junos=\"http://xml.juniper.net/junos/17.1R1/junos\" xmlns:nc=\"urn:ietf:params:xml:ns:netconf:base:1.0\" message-id=\"urn:uuid:efc635b2-9772-4778-8e33-a938c1b7e9be\">\n",
      "<ok/>\n",
      "</rpc-reply>\n",
      "\n"
     ]
    }
   ],
   "source": [
    "   with manager.connect(host='192.10.0.103',\n",
    "                         port=830,\n",
    "                         username='lab',\n",
    "                         password='lab123',\n",
    "                         timeout=90,\n",
    "                         hostkey_verify=False,\n",
    "                         device_params={'name': 'default'}) as m:\n",
    "\n",
    "        # execute netconf operation\n",
    "        try:\n",
    "            response = m.edit_config(target='candidate', config=payload).xml\n",
    "            m.commit()\n",
    "            data = ET.fromstring(response)\n",
    "        except RPCError as e:\n",
    "            data = e._raw\n",
    "\n",
    "        # beautify output\n",
    "        print(ET.tostring(data, pretty_print=True))"
   ]
  },
  {
   "cell_type": "code",
   "execution_count": 33,
   "metadata": {},
   "outputs": [],
   "source": [
    "get_interface = \"\"\"\n",
    "<filter xmlns=\"urn:ietf:params:xml:ns:netconf:base:1.0\">\n",
    "      <name>ge-0/0/2</name>\n",
    "</filter>\n",
    "\"\"\""
   ]
  },
  {
   "cell_type": "code",
   "execution_count": 34,
   "metadata": {},
   "outputs": [
    {
     "name": "stdout",
     "output_type": "stream",
     "text": [
      "<rpc-reply xmlns=\"urn:ietf:params:xml:ns:netconf:base:1.0\" xmlns:junos=\"http://xml.juniper.net/junos/17.1R1/junos\" xmlns:nc=\"urn:ietf:params:xml:ns:netconf:base:1.0\" message-id=\"urn:uuid:0cd0f1ba-8586-42b1-9696-7b7dcc230311\">\n",
      "<rpc-error>\n",
      "<error-type>protocol</error-type>\n",
      "<error-tag>operation-failed</error-tag>\n",
      "<error-severity>error</error-severity>\n",
      "<error-message>syntax error, expecting &lt;/filter&gt;</error-message>\n",
      "<error-info>\n",
      "<bad-element>name</bad-element>\n",
      "</error-info>\n",
      "</rpc-error>\n",
      "<rpc-error>\n",
      "<error-type>protocol</error-type>\n",
      "<error-tag>operation-failed</error-tag>\n",
      "<error-severity>error</error-severity>\n",
      "<error-message>syntax error, expecting &lt;/filter&gt;</error-message>\n",
      "<error-info>\n",
      "<bad-element>name</bad-element>\n",
      "</error-info>\n",
      "</rpc-error>\n",
      "</rpc-reply>\n",
      "\n"
     ]
    }
   ],
   "source": [
    "   with manager.connect(host='192.10.0.103',\n",
    "                         port=830,\n",
    "                         username='lab',\n",
    "                         password='lab123',\n",
    "                         timeout=90,\n",
    "                         hostkey_verify=False,\n",
    "                         device_params={'name': 'default'}) as m:\n",
    "\n",
    "        # execute netconf operation\n",
    "        try:\n",
    "            response = m.get(get_interface).xml\n",
    "            data = ET.fromstring(response)\n",
    "        except RPCError as e:\n",
    "            data = e._raw\n",
    "\n",
    "        # beautify output\n",
    "        print(ET.tostring(data, pretty_print=True))"
   ]
  },
  {
   "cell_type": "code",
   "execution_count": null,
   "metadata": {},
   "outputs": [],
   "source": []
  }
 ],
 "metadata": {
  "kernelspec": {
   "display_name": "Python 2",
   "language": "python",
   "name": "python2"
  },
  "language_info": {
   "codemirror_mode": {
    "name": "ipython",
    "version": 2
   },
   "file_extension": ".py",
   "mimetype": "text/x-python",
   "name": "python",
   "nbconvert_exporter": "python",
   "pygments_lexer": "ipython2",
   "version": "2.7.12"
  }
 },
 "nbformat": 4,
 "nbformat_minor": 2
}
