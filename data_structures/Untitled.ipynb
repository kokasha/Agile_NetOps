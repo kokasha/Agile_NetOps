{
 "cells": [
  {
   "cell_type": "code",
   "execution_count": 3,
   "metadata": {},
   "outputs": [],
   "source": [
    "yml_dict= {'name': ['ahmed','karim']}"
   ]
  },
  {
   "cell_type": "code",
   "execution_count": 4,
   "metadata": {},
   "outputs": [
    {
     "data": {
      "text/plain": [
       "dict"
      ]
     },
     "execution_count": 4,
     "metadata": {},
     "output_type": "execute_result"
    }
   ],
   "source": [
    "type(yml_dict)"
   ]
  },
  {
   "cell_type": "code",
   "execution_count": 52,
   "metadata": {},
   "outputs": [],
   "source": [
    "from dict2xml import dict2xml\n",
    "import yaml\n",
    "from pprint import pprint"
   ]
  },
  {
   "cell_type": "code",
   "execution_count": 11,
   "metadata": {},
   "outputs": [],
   "source": [
    "with open('3-dict_of_lists.yml') as f:\n",
    "    text= f.read()"
   ]
  },
  {
   "cell_type": "code",
   "execution_count": 12,
   "metadata": {},
   "outputs": [
    {
     "name": "stdout",
     "output_type": "stream",
     "text": [
      "---\n",
      "syslog_servers:\n",
      "  - 172.16.1.1\n",
      "  - 172.16.1.2\n",
      "\n",
      "snmp_server:\n",
      "  - 10.1.1.1\n",
      "  - 10.2.1.1\n",
      "RT:\n",
      "  - 6500:1\n",
      "  - 6500:2\n"
     ]
    }
   ],
   "source": [
    "print (text)"
   ]
  },
  {
   "cell_type": "code",
   "execution_count": 19,
   "metadata": {},
   "outputs": [],
   "source": [
    "py_obj = yaml.load(text)"
   ]
  },
  {
   "cell_type": "code",
   "execution_count": 20,
   "metadata": {},
   "outputs": [
    {
     "data": {
      "text/plain": [
       "dict"
      ]
     },
     "execution_count": 20,
     "metadata": {},
     "output_type": "execute_result"
    }
   ],
   "source": [
    "type(py_obj)"
   ]
  },
  {
   "cell_type": "code",
   "execution_count": 25,
   "metadata": {},
   "outputs": [
    {
     "name": "stdout",
     "output_type": "stream",
     "text": [
      "<all>\n",
      "  <RT>390001</RT>\n",
      "  <RT>390002</RT>\n",
      "  <snmp_server>10.1.1.1</snmp_server>\n",
      "  <snmp_server>10.2.1.1</snmp_server>\n",
      "  <syslog_servers>172.16.1.1</syslog_servers>\n",
      "  <syslog_servers>172.16.1.2</syslog_servers>\n",
      "</all>\n"
     ]
    }
   ],
   "source": [
    "print (dict2xml(py_obj, wrap=\"all\", indent=\"  \"))"
   ]
  },
  {
   "cell_type": "code",
   "execution_count": 23,
   "metadata": {},
   "outputs": [
    {
     "name": "stdout",
     "output_type": "stream",
     "text": [
      "{'RT': [390001, 390002], 'syslog_servers': ['172.16.1.1', '172.16.1.2'], 'snmp_server': ['10.1.1.1', '10.2.1.1']}\n"
     ]
    }
   ],
   "source": [
    "print(py_obj)"
   ]
  },
  {
   "cell_type": "code",
   "execution_count": 32,
   "metadata": {},
   "outputs": [],
   "source": [
    "py_list = ['R1',1234,'10.1.1.1','Cisco']"
   ]
  },
  {
   "cell_type": "code",
   "execution_count": 33,
   "metadata": {},
   "outputs": [
    {
     "data": {
      "text/plain": [
       "['R1', 1234, '10.1.1.1', 'Cisco']"
      ]
     },
     "execution_count": 33,
     "metadata": {},
     "output_type": "execute_result"
    }
   ],
   "source": [
    "py_list"
   ]
  },
  {
   "cell_type": "code",
   "execution_count": 34,
   "metadata": {},
   "outputs": [
    {
     "name": "stdout",
     "output_type": "stream",
     "text": [
      "Index is 0,vlaue is R1\n",
      "Index is 1,vlaue is 1234\n",
      "Index is 2,vlaue is 10.1.1.1\n",
      "Index is 3,vlaue is Cisco\n"
     ]
    }
   ],
   "source": [
    "for index,item in enumerate(py_list):\n",
    "    print('Index is {},vlaue is {}'.format(index,item) )"
   ]
  },
  {
   "cell_type": "code",
   "execution_count": 37,
   "metadata": {},
   "outputs": [],
   "source": [
    "py_dict = {'name': 'R1', 'serial': 1234, 'lo':'10.1.1.1' , 'vendor':'cisco'}"
   ]
  },
  {
   "cell_type": "code",
   "execution_count": 45,
   "metadata": {},
   "outputs": [
    {
     "name": "stdout",
     "output_type": "stream",
     "text": [
      "key = lo     , value = 10.1.1.1\n",
      "key = serial , value = 1234\n",
      "key = vendor , value = cisco\n",
      "key = name   , value = R1\n"
     ]
    }
   ],
   "source": [
    "for k,v in py_dict.items():\n",
    "    print ('key = {:7}, value = {}'.format(k,v))"
   ]
  },
  {
   "cell_type": "code",
   "execution_count": 47,
   "metadata": {},
   "outputs": [],
   "source": [
    "routers = [['R1',1234,'10.1.1.1','cisco'],['R2',456,'10.2.2.2','Juniper']]"
   ]
  },
  {
   "cell_type": "code",
   "execution_count": 51,
   "metadata": {},
   "outputs": [
    {
     "name": "stdout",
     "output_type": "stream",
     "text": [
      "outer_index= 0 ,inner_index= 0, value=R1\n",
      "outer_index= 0 ,inner_index= 1, value=1234\n",
      "outer_index= 0 ,inner_index= 2, value=10.1.1.1\n",
      "outer_index= 0 ,inner_index= 3, value=cisco\n",
      "outer_index= 1 ,inner_index= 0, value=R2\n",
      "outer_index= 1 ,inner_index= 1, value=456\n",
      "outer_index= 1 ,inner_index= 2, value=10.2.2.2\n",
      "outer_index= 1 ,inner_index= 3, value=Juniper\n"
     ]
    }
   ],
   "source": [
    "for index,value in enumerate(routers):\n",
    "    for inner_index,inner_value in enumerate(value):\n",
    "        print('outer_index= {} ,inner_index= {}, value={}'.format(index,inner_index,inner_value))\n",
    "\n",
    "\n"
   ]
  },
  {
   "cell_type": "code",
   "execution_count": 54,
   "metadata": {},
   "outputs": [
    {
     "name": "stdout",
     "output_type": "stream",
     "text": [
      "[['R1', 1234, '10.1.1.1', 'cisco'], ['R2', 456, '10.2.2.2', 'Juniper']]\n"
     ]
    }
   ],
   "source": [
    "print(routers)\n",
    "\n"
   ]
  },
  {
   "cell_type": "code",
   "execution_count": 57,
   "metadata": {},
   "outputs": [],
   "source": [
    "routers= [{'name':'R1','serial':1234,'lo':'10.1.1.1','vendor':'cisco'},\n",
    "          {'name':'R2','serial': 456,'lo':'10.2.2.2','vendor':'Juniper'}]"
   ]
  },
  {
   "cell_type": "code",
   "execution_count": 58,
   "metadata": {},
   "outputs": [
    {
     "data": {
      "text/plain": [
       "{'lo': '10.1.1.1', 'serial': 1234, 'vendor': 'cisco', 'name': 'R1'}"
      ]
     },
     "execution_count": 58,
     "metadata": {},
     "output_type": "execute_result"
    }
   ],
   "source": [
    "routers[0]"
   ]
  },
  {
   "cell_type": "code",
   "execution_count": 59,
   "metadata": {},
   "outputs": [
    {
     "name": "stdout",
     "output_type": "stream",
     "text": [
      "[{'lo': '10.1.1.1', 'name': 'R1', 'serial': 1234, 'vendor': 'cisco'},\n",
      " {'lo': '10.2.2.2', 'name': 'R2', 'serial': 456, 'vendor': 'Juniper'}]\n"
     ]
    }
   ],
   "source": [
    "pprint(routers)"
   ]
  },
  {
   "cell_type": "code",
   "execution_count": 63,
   "metadata": {},
   "outputs": [
    {
     "name": "stdout",
     "output_type": "stream",
     "text": [
      "index= 0 ,key= lo     , value=10.1.1.1\n",
      "index= 0 ,key= serial , value=1234\n",
      "index= 0 ,key= vendor , value=cisco\n",
      "index= 0 ,key= name   , value=R1\n",
      "index= 1 ,key= lo     , value=10.2.2.2\n",
      "index= 1 ,key= serial , value=456\n",
      "index= 1 ,key= vendor , value=Juniper\n",
      "index= 1 ,key= name   , value=R2\n"
     ]
    }
   ],
   "source": [
    "for index,value in enumerate(routers):\n",
    "    for k,v in value.items():\n",
    "        print('index= {} ,key= {:7}, value={}'.format(index,k,v))\n"
   ]
  },
  {
   "cell_type": "code",
   "execution_count": 66,
   "metadata": {},
   "outputs": [],
   "source": [
    "nodes = {'R1': [1234,'10.1.1.1','cisco'],'R2': [456,'10.2.2.2','Juniper']}"
   ]
  },
  {
   "cell_type": "code",
   "execution_count": 65,
   "metadata": {},
   "outputs": [
    {
     "name": "stdout",
     "output_type": "stream",
     "text": [
      "{'R1': [1234, '10.1.1.1', 'cisco'], 'R2': [456, '10.2.2.2', 'Juniper']}\n"
     ]
    }
   ],
   "source": [
    "pprint (nodes)"
   ]
  },
  {
   "cell_type": "code",
   "execution_count": 68,
   "metadata": {},
   "outputs": [
    {
     "name": "stdout",
     "output_type": "stream",
     "text": [
      "Key= R1 ,index= 0, value=1234\n",
      "Key= R1 ,index= 1, value=10.1.1.1\n",
      "Key= R1 ,index= 2, value=cisco\n",
      "Key= R2 ,index= 0, value=456\n",
      "Key= R2 ,index= 1, value=10.2.2.2\n",
      "Key= R2 ,index= 2, value=Juniper\n"
     ]
    }
   ],
   "source": [
    "for k,v in nodes.items():\n",
    "    for index,value in enumerate(v):\n",
    "        print('Key= {} ,index= {:0}, value={}'.format(k,index,value))\n",
    "        "
   ]
  },
  {
   "cell_type": "code",
   "execution_count": 69,
   "metadata": {},
   "outputs": [],
   "source": [
    "nodes = {'R1':{'serial':1234,'lo':'10.1.1.1','vendor':'cisco'},\n",
    "         'R2':{'serial': 456,'lo':'10.2.2.2','vendor':'Juniper'}}\n"
   ]
  },
  {
   "cell_type": "code",
   "execution_count": 75,
   "metadata": {},
   "outputs": [
    {
     "name": "stdout",
     "output_type": "stream",
     "text": [
      "Master Key= R1 ,inner key =lo    , value=10.1.1.1\n",
      "Master Key= R1 ,inner key =serial, value=1234\n",
      "Master Key= R1 ,inner key =vendor, value=cisco\n",
      "Master Key= R2 ,inner key =lo    , value=10.2.2.2\n",
      "Master Key= R2 ,inner key =serial, value=456\n",
      "Master Key= R2 ,inner key =vendor, value=Juniper\n"
     ]
    }
   ],
   "source": [
    "for k,v in nodes.items():\n",
    "    for k2,v2 in v.items():\n",
    "        print('Master Key= {} ,inner key ={:6}, value={}'.format(k,k2,v2))\n",
    "        "
   ]
  },
  {
   "cell_type": "code",
   "execution_count": null,
   "metadata": {},
   "outputs": [],
   "source": []
  }
 ],
 "metadata": {
  "kernelspec": {
   "display_name": "Python 2",
   "language": "python",
   "name": "python2"
  },
  "language_info": {
   "codemirror_mode": {
    "name": "ipython",
    "version": 2
   },
   "file_extension": ".py",
   "mimetype": "text/x-python",
   "name": "python",
   "nbconvert_exporter": "python",
   "pygments_lexer": "ipython2",
   "version": "2.7.12"
  }
 },
 "nbformat": 4,
 "nbformat_minor": 2
}
